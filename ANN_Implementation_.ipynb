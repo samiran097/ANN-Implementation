{
  "nbformat": 4,
  "nbformat_minor": 0,
  "metadata": {
    "colab": {
      "name": "ANN Implementation_",
      "provenance": [],
      "authorship_tag": "ABX9TyMN1S3mR12YAdUdGmr1VTnJ",
      "include_colab_link": true
    },
    "kernelspec": {
      "name": "python3",
      "display_name": "Python 3"
    },
    "language_info": {
      "name": "python"
    },
    "accelerator": "GPU"
  },
  "cells": [
    {
      "cell_type": "markdown",
      "metadata": {
        "id": "view-in-github",
        "colab_type": "text"
      },
      "source": [
        "<a href=\"https://colab.research.google.com/github/samiran097/ANN-Implementation/blob/main/ANN_Implementation_.ipynb\" target=\"_parent\"><img src=\"https://colab.research.google.com/assets/colab-badge.svg\" alt=\"Open In Colab\"/></a>"
      ]
    },
    {
      "cell_type": "code",
      "metadata": {
        "id": "KzKasZ7252Ds"
      },
      "source": [
        "import tensorflow as tf"
      ],
      "execution_count": null,
      "outputs": []
    },
    {
      "cell_type": "code",
      "metadata": {
        "colab": {
          "base_uri": "https://localhost:8080/",
          "height": 35
        },
        "id": "PL0kVnh96Zxx",
        "outputId": "e5d43e46-4c43-46f2-da81-1572b72c1307"
      },
      "source": [
        "tf.__version__"
      ],
      "execution_count": null,
      "outputs": [
        {
          "output_type": "execute_result",
          "data": {
            "application/vnd.google.colaboratory.intrinsic+json": {
              "type": "string"
            },
            "text/plain": [
              "'2.6.0'"
            ]
          },
          "metadata": {},
          "execution_count": 2
        }
      ]
    },
    {
      "cell_type": "code",
      "metadata": {
        "colab": {
          "base_uri": "https://localhost:8080/",
          "height": 35
        },
        "id": "J5b9IbE_6fnG",
        "outputId": "31154970-7e1e-4aa3-a9ca-088bfee4132d"
      },
      "source": [
        "tf.keras.__version__"
      ],
      "execution_count": null,
      "outputs": [
        {
          "output_type": "execute_result",
          "data": {
            "application/vnd.google.colaboratory.intrinsic+json": {
              "type": "string"
            },
            "text/plain": [
              "'2.6.0'"
            ]
          },
          "metadata": {},
          "execution_count": 3
        }
      ]
    },
    {
      "cell_type": "markdown",
      "metadata": {
        "id": "wFQ8roRO6wix"
      },
      "source": [
        "Keras is a High level API for tensorflow, its a wraper created over tensorflow"
      ]
    },
    {
      "cell_type": "code",
      "metadata": {
        "colab": {
          "base_uri": "https://localhost:8080/"
        },
        "id": "KR4zWei97DFE",
        "outputId": "0b80ca74-c4bc-449d-e746-80817474ee4f"
      },
      "source": [
        "tf.config.list_physical_devices(\"GPU\") # To check if GPU is there or not"
      ],
      "execution_count": null,
      "outputs": [
        {
          "output_type": "execute_result",
          "data": {
            "text/plain": [
              "[PhysicalDevice(name='/physical_device:GPU:0', device_type='GPU')]"
            ]
          },
          "metadata": {},
          "execution_count": 4
        }
      ]
    },
    {
      "cell_type": "code",
      "metadata": {
        "colab": {
          "base_uri": "https://localhost:8080/"
        },
        "id": "XnSL4p5n7jqF",
        "outputId": "d79bed78-9e47-468c-c7a8-ad8920a33f61"
      },
      "source": [
        "tf.config.list_physical_devices(\"CPU\")"
      ],
      "execution_count": null,
      "outputs": [
        {
          "output_type": "execute_result",
          "data": {
            "text/plain": [
              "[PhysicalDevice(name='/physical_device:CPU:0', device_type='CPU')]"
            ]
          },
          "metadata": {},
          "execution_count": 5
        }
      ]
    },
    {
      "cell_type": "code",
      "metadata": {
        "id": "tTe4CXDO7zZ2"
      },
      "source": [
        "import numpy as np\n",
        "import pandas as pd\n",
        "import seaborn as sns\n",
        "import matplotlib.pyplot as plt"
      ],
      "execution_count": null,
      "outputs": []
    },
    {
      "cell_type": "code",
      "metadata": {
        "id": "Q5MkcdNg8cQr"
      },
      "source": [
        "mnist = tf.keras.datasets.mnist"
      ],
      "execution_count": null,
      "outputs": []
    },
    {
      "cell_type": "code",
      "metadata": {
        "colab": {
          "base_uri": "https://localhost:8080/"
        },
        "id": "MDz0zJdT8iXv",
        "outputId": "9a13307a-016c-491b-d905-8c3bcdf5a53a"
      },
      "source": [
        "mnist.load_data"
      ],
      "execution_count": null,
      "outputs": [
        {
          "output_type": "execute_result",
          "data": {
            "text/plain": [
              "<function keras.datasets.mnist.load_data>"
            ]
          },
          "metadata": {},
          "execution_count": 8
        }
      ]
    },
    {
      "cell_type": "code",
      "metadata": {
        "id": "Fps69AzH8pf_",
        "colab": {
          "base_uri": "https://localhost:8080/"
        },
        "outputId": "67671f15-9748-4083-a4c4-92895050e8bf"
      },
      "source": [
        "(X_train_full,y_train_full),(X_test,y_test) = mnist.load_data() # This consists of 28X28 black and white data set, with 10 classes"
      ],
      "execution_count": null,
      "outputs": [
        {
          "output_type": "stream",
          "name": "stdout",
          "text": [
            "Downloading data from https://storage.googleapis.com/tensorflow/tf-keras-datasets/mnist.npz\n",
            "11493376/11490434 [==============================] - 0s 0us/step\n",
            "11501568/11490434 [==============================] - 0s 0us/step\n"
          ]
        }
      ]
    },
    {
      "cell_type": "code",
      "metadata": {
        "colab": {
          "base_uri": "https://localhost:8080/"
        },
        "id": "4T7Yn7F-84cd",
        "outputId": "436f88d3-6d1e-4f3f-ad45-c704ad33c20e"
      },
      "source": [
        "X_train_full.shape"
      ],
      "execution_count": null,
      "outputs": [
        {
          "output_type": "execute_result",
          "data": {
            "text/plain": [
              "(60000, 28, 28)"
            ]
          },
          "metadata": {},
          "execution_count": 10
        }
      ]
    },
    {
      "cell_type": "code",
      "metadata": {
        "colab": {
          "base_uri": "https://localhost:8080/"
        },
        "id": "NUwXeY669XZ9",
        "outputId": "bff44395-5b23-4d52-9fe1-73566739982b"
      },
      "source": [
        "X_train_full[0].shape"
      ],
      "execution_count": null,
      "outputs": [
        {
          "output_type": "execute_result",
          "data": {
            "text/plain": [
              "(28, 28)"
            ]
          },
          "metadata": {},
          "execution_count": 11
        }
      ]
    },
    {
      "cell_type": "code",
      "metadata": {
        "id": "UXS7awRu9itP",
        "colab": {
          "base_uri": "https://localhost:8080/"
        },
        "outputId": "ba5b6290-4b6c-4bf6-ed80-10958977f6b9"
      },
      "source": [
        "X_train_full[0]"
      ],
      "execution_count": null,
      "outputs": [
        {
          "output_type": "execute_result",
          "data": {
            "text/plain": [
              "array([[  0,   0,   0,   0,   0,   0,   0,   0,   0,   0,   0,   0,   0,\n",
              "          0,   0,   0,   0,   0,   0,   0,   0,   0,   0,   0,   0,   0,\n",
              "          0,   0],\n",
              "       [  0,   0,   0,   0,   0,   0,   0,   0,   0,   0,   0,   0,   0,\n",
              "          0,   0,   0,   0,   0,   0,   0,   0,   0,   0,   0,   0,   0,\n",
              "          0,   0],\n",
              "       [  0,   0,   0,   0,   0,   0,   0,   0,   0,   0,   0,   0,   0,\n",
              "          0,   0,   0,   0,   0,   0,   0,   0,   0,   0,   0,   0,   0,\n",
              "          0,   0],\n",
              "       [  0,   0,   0,   0,   0,   0,   0,   0,   0,   0,   0,   0,   0,\n",
              "          0,   0,   0,   0,   0,   0,   0,   0,   0,   0,   0,   0,   0,\n",
              "          0,   0],\n",
              "       [  0,   0,   0,   0,   0,   0,   0,   0,   0,   0,   0,   0,   0,\n",
              "          0,   0,   0,   0,   0,   0,   0,   0,   0,   0,   0,   0,   0,\n",
              "          0,   0],\n",
              "       [  0,   0,   0,   0,   0,   0,   0,   0,   0,   0,   0,   0,   3,\n",
              "         18,  18,  18, 126, 136, 175,  26, 166, 255, 247, 127,   0,   0,\n",
              "          0,   0],\n",
              "       [  0,   0,   0,   0,   0,   0,   0,   0,  30,  36,  94, 154, 170,\n",
              "        253, 253, 253, 253, 253, 225, 172, 253, 242, 195,  64,   0,   0,\n",
              "          0,   0],\n",
              "       [  0,   0,   0,   0,   0,   0,   0,  49, 238, 253, 253, 253, 253,\n",
              "        253, 253, 253, 253, 251,  93,  82,  82,  56,  39,   0,   0,   0,\n",
              "          0,   0],\n",
              "       [  0,   0,   0,   0,   0,   0,   0,  18, 219, 253, 253, 253, 253,\n",
              "        253, 198, 182, 247, 241,   0,   0,   0,   0,   0,   0,   0,   0,\n",
              "          0,   0],\n",
              "       [  0,   0,   0,   0,   0,   0,   0,   0,  80, 156, 107, 253, 253,\n",
              "        205,  11,   0,  43, 154,   0,   0,   0,   0,   0,   0,   0,   0,\n",
              "          0,   0],\n",
              "       [  0,   0,   0,   0,   0,   0,   0,   0,   0,  14,   1, 154, 253,\n",
              "         90,   0,   0,   0,   0,   0,   0,   0,   0,   0,   0,   0,   0,\n",
              "          0,   0],\n",
              "       [  0,   0,   0,   0,   0,   0,   0,   0,   0,   0,   0, 139, 253,\n",
              "        190,   2,   0,   0,   0,   0,   0,   0,   0,   0,   0,   0,   0,\n",
              "          0,   0],\n",
              "       [  0,   0,   0,   0,   0,   0,   0,   0,   0,   0,   0,  11, 190,\n",
              "        253,  70,   0,   0,   0,   0,   0,   0,   0,   0,   0,   0,   0,\n",
              "          0,   0],\n",
              "       [  0,   0,   0,   0,   0,   0,   0,   0,   0,   0,   0,   0,  35,\n",
              "        241, 225, 160, 108,   1,   0,   0,   0,   0,   0,   0,   0,   0,\n",
              "          0,   0],\n",
              "       [  0,   0,   0,   0,   0,   0,   0,   0,   0,   0,   0,   0,   0,\n",
              "         81, 240, 253, 253, 119,  25,   0,   0,   0,   0,   0,   0,   0,\n",
              "          0,   0],\n",
              "       [  0,   0,   0,   0,   0,   0,   0,   0,   0,   0,   0,   0,   0,\n",
              "          0,  45, 186, 253, 253, 150,  27,   0,   0,   0,   0,   0,   0,\n",
              "          0,   0],\n",
              "       [  0,   0,   0,   0,   0,   0,   0,   0,   0,   0,   0,   0,   0,\n",
              "          0,   0,  16,  93, 252, 253, 187,   0,   0,   0,   0,   0,   0,\n",
              "          0,   0],\n",
              "       [  0,   0,   0,   0,   0,   0,   0,   0,   0,   0,   0,   0,   0,\n",
              "          0,   0,   0,   0, 249, 253, 249,  64,   0,   0,   0,   0,   0,\n",
              "          0,   0],\n",
              "       [  0,   0,   0,   0,   0,   0,   0,   0,   0,   0,   0,   0,   0,\n",
              "          0,  46, 130, 183, 253, 253, 207,   2,   0,   0,   0,   0,   0,\n",
              "          0,   0],\n",
              "       [  0,   0,   0,   0,   0,   0,   0,   0,   0,   0,   0,   0,  39,\n",
              "        148, 229, 253, 253, 253, 250, 182,   0,   0,   0,   0,   0,   0,\n",
              "          0,   0],\n",
              "       [  0,   0,   0,   0,   0,   0,   0,   0,   0,   0,  24, 114, 221,\n",
              "        253, 253, 253, 253, 201,  78,   0,   0,   0,   0,   0,   0,   0,\n",
              "          0,   0],\n",
              "       [  0,   0,   0,   0,   0,   0,   0,   0,  23,  66, 213, 253, 253,\n",
              "        253, 253, 198,  81,   2,   0,   0,   0,   0,   0,   0,   0,   0,\n",
              "          0,   0],\n",
              "       [  0,   0,   0,   0,   0,   0,  18, 171, 219, 253, 253, 253, 253,\n",
              "        195,  80,   9,   0,   0,   0,   0,   0,   0,   0,   0,   0,   0,\n",
              "          0,   0],\n",
              "       [  0,   0,   0,   0,  55, 172, 226, 253, 253, 253, 253, 244, 133,\n",
              "         11,   0,   0,   0,   0,   0,   0,   0,   0,   0,   0,   0,   0,\n",
              "          0,   0],\n",
              "       [  0,   0,   0,   0, 136, 253, 253, 253, 212, 135, 132,  16,   0,\n",
              "          0,   0,   0,   0,   0,   0,   0,   0,   0,   0,   0,   0,   0,\n",
              "          0,   0],\n",
              "       [  0,   0,   0,   0,   0,   0,   0,   0,   0,   0,   0,   0,   0,\n",
              "          0,   0,   0,   0,   0,   0,   0,   0,   0,   0,   0,   0,   0,\n",
              "          0,   0],\n",
              "       [  0,   0,   0,   0,   0,   0,   0,   0,   0,   0,   0,   0,   0,\n",
              "          0,   0,   0,   0,   0,   0,   0,   0,   0,   0,   0,   0,   0,\n",
              "          0,   0],\n",
              "       [  0,   0,   0,   0,   0,   0,   0,   0,   0,   0,   0,   0,   0,\n",
              "          0,   0,   0,   0,   0,   0,   0,   0,   0,   0,   0,   0,   0,\n",
              "          0,   0]], dtype=uint8)"
            ]
          },
          "metadata": {},
          "execution_count": 12
        }
      ]
    },
    {
      "cell_type": "code",
      "metadata": {
        "colab": {
          "base_uri": "https://localhost:8080/",
          "height": 248
        },
        "id": "AQuAZ4A29mME",
        "outputId": "d2fba225-ccef-4fbb-d446-23f7da94d1e0"
      },
      "source": [
        "img = X_train_full[0]\n",
        "\n",
        "plt.imshow(img,cmap = \"binary\")\n",
        "plt.axis(\"off\")\n",
        "plt.show()"
      ],
      "execution_count": null,
      "outputs": [
        {
          "output_type": "display_data",
          "data": {
            "image/png": "[encoded data removed]",
            "text/plain": [
              "<Figure size 432x288 with 1 Axes>"
            ]
          },
          "metadata": {
            "needs_background": "light"
          }
        }
      ]
    },
    {
      "cell_type": "code",
      "metadata": {
        "colab": {
          "base_uri": "https://localhost:8080/"
        },
        "id": "2N0xJr2T9F1V",
        "outputId": "29e5ef00-fed1-40f4-8f02-34f52968a95b"
      },
      "source": [
        "y_train_full.shape"
      ],
      "execution_count": null,
      "outputs": [
        {
          "output_type": "execute_result",
          "data": {
            "text/plain": [
              "(60000,)"
            ]
          },
          "metadata": {},
          "execution_count": 14
        }
      ]
    },
    {
      "cell_type": "code",
      "metadata": {
        "colab": {
          "base_uri": "https://localhost:8080/"
        },
        "id": "-5xEhc-69JAm",
        "outputId": "d7a9a90e-cfb6-4293-9cf4-83f1a87379f7"
      },
      "source": [
        "y_train_full[0]"
      ],
      "execution_count": null,
      "outputs": [
        {
          "output_type": "execute_result",
          "data": {
            "text/plain": [
              "5"
            ]
          },
          "metadata": {},
          "execution_count": 15
        }
      ]
    },
    {
      "cell_type": "code",
      "metadata": {
        "colab": {
          "base_uri": "https://localhost:8080/",
          "height": 880
        },
        "id": "6dzh1zSn95SO",
        "outputId": "75db370c-9e38-4404-8249-3fac0df12c83"
      },
      "source": [
        "plt.figure(figsize=(15,15))\n",
        "sns.heatmap(img,annot = True,cmap = \"binary\") # Gives 0 where ever it's white else black"
      ],
      "execution_count": null,
      "outputs": [
        {
          "output_type": "execute_result",
          "data": {
            "text/plain": [
              "<matplotlib.axes._subplots.AxesSubplot at 0x7f9579b31d90>"
            ]
          },
          "metadata": {},
          "execution_count": 16
        },
        {
          "output_type": "display_data",
          "data": {
            "image/png": "[encoded data removed]",
            "text/plain": [
              "<Figure size 1080x1080 with 2 Axes>"
            ]
          },
          "metadata": {
            "needs_background": "light"
          }
        }
      ]
    },
    {
      "cell_type": "code",
      "metadata": {
        "colab": {
          "base_uri": "https://localhost:8080/"
        },
        "id": "Ld_j4qJl-CwV",
        "outputId": "12a65054-c516-41aa-8cc1-367265bc6490"
      },
      "source": [
        "img.max(),img.min() # maximum & min value of image"
      ],
      "execution_count": null,
      "outputs": [
        {
          "output_type": "execute_result",
          "data": {
            "text/plain": [
              "(255, 0)"
            ]
          },
          "metadata": {},
          "execution_count": 17
        }
      ]
    },
    {
      "cell_type": "code",
      "metadata": {
        "colab": {
          "base_uri": "https://localhost:8080/",
          "height": 884
        },
        "id": "3pZWvCS_-VZG",
        "outputId": "414b2df2-ca22-45b2-b6ba-88d0d092d4a7"
      },
      "source": [
        "plt.figure(figsize=(15,15))\n",
        "sns.heatmap(img / 255,annot = True,cmap = \"binary\") # Gives 0 where ever it's white else black"
      ],
      "execution_count": null,
      "outputs": [
        {
          "output_type": "execute_result",
          "data": {
            "text/plain": [
              "<matplotlib.axes._subplots.AxesSubplot at 0x7f9570d7db10>"
            ]
          },
          "metadata": {},
          "execution_count": 18
        },
        {
          "output_type": "display_data",
          "data": {
            "image/png": "[encoded data removed]",
            "text/plain": [
              "<Figure size 1080x1080 with 2 Axes>"
            ]
          },
          "metadata": {
            "needs_background": "light"
          }
        }
      ]
    },
    {
      "cell_type": "code",
      "metadata": {
        "id": "Dg7oUxoh-fdM"
      },
      "source": [
        "X_valid,X_train = X_train_full[:5000] / 255.,X_train_full[5000:] / 255. # Creating vaidation (5K records) & training set (55K records)\n",
        "y_valid,y_train = y_train_full[:5000] / 255.,y_train_full[5000:] / 255.\n",
        "\n",
        "X_test = X_test / 255."
      ],
      "execution_count": null,
      "outputs": []
    },
    {
      "cell_type": "code",
      "metadata": {
        "id": "LwH7P_NUA7Zm"
      },
      "source": [
        "LAYERS = [\n",
        "          tf.keras.layers.Flatten(input_shape = [28,28],name = \"inputLayer\"), # Converting to 784 neurons ## Flattening data because its not in table format, once flatten it will be in the form of \n",
        "          tf.keras.layers.Dense(300 ,activation = \"relu\",name = \"hiddenLayer1\"), # Hidden layer\n",
        "          tf.keras.layers.Dense(100 ,activation = \"relu\",name = \"hiddenLayer2\"),\n",
        "          tf.keras.layers.Dense(10 ,activation = \"softmax\",name = \"outputLayer\")\n",
        "          \n",
        "]"
      ],
      "execution_count": null,
      "outputs": []
    },
    {
      "cell_type": "code",
      "metadata": {
        "id": "RG3KhdkhEdzz"
      },
      "source": [
        "model_clf = tf.keras.models.Sequential(LAYERS)"
      ],
      "execution_count": null,
      "outputs": []
    },
    {
      "cell_type": "code",
      "metadata": {
        "colab": {
          "base_uri": "https://localhost:8080/"
        },
        "id": "Po0RmpfhEqH1",
        "outputId": "f07c200c-5b43-4bf8-968d-927221f0d3fe"
      },
      "source": [
        "model_clf.layers"
      ],
      "execution_count": null,
      "outputs": [
        {
          "output_type": "execute_result",
          "data": {
            "text/plain": [
              "[<keras.layers.core.Flatten at 0x7fcae5afff90>,\n",
              " <keras.layers.core.Dense at 0x7fcae5b063d0>,\n",
              " <keras.layers.core.Dense at 0x7fcae5affa90>,\n",
              " <keras.layers.core.Dense at 0x7fcae5b50690>]"
            ]
          },
          "metadata": {},
          "execution_count": 30
        }
      ]
    },
    {
      "cell_type": "code",
      "metadata": {
        "colab": {
          "base_uri": "https://localhost:8080/"
        },
        "id": "6LwYlHFDEr5-",
        "outputId": "20a0cca5-a66b-4fc7-a577-7b0a13d7d93e"
      },
      "source": [
        "model_clf.summary()\n",
        "# Trainable params means the paramenetrs that will change all the time durin training, Refer scribble notes for exact parameter #\n",
        "# Non-trainable params means if you use any transfer learning model (using pre trained model weights) - This approach uses less GPU and less resources"
      ],
      "execution_count": null,
      "outputs": [
        {
          "output_type": "stream",
          "name": "stdout",
          "text": [
            "Model: \"sequential\"\n",
            "_________________________________________________________________\n",
            "Layer (type)                 Output Shape              Param #   \n",
            "=================================================================\n",
            "inputLayer (Flatten)         (None, 784)               0         \n",
            "_________________________________________________________________\n",
            "hiddenLayer1 (Dense)         (None, 300)               235500    \n",
            "_________________________________________________________________\n",
            "hiddenLayer2 (Dense)         (None, 100)               30100     \n",
            "_________________________________________________________________\n",
            "outputLayer (Dense)          (None, 10)                1010      \n",
            "=================================================================\n",
            "Total params: 266,610\n",
            "Trainable params: 266,610\n",
            "Non-trainable params: 0\n",
            "_________________________________________________________________\n"
          ]
        }
      ]
    },
    {
      "cell_type": "code",
      "metadata": {
        "colab": {
          "base_uri": "https://localhost:8080/"
        },
        "id": "YPxjzDNGEuVQ",
        "outputId": "9a46e518-c802-423e-d3cf-764057f92ebc"
      },
      "source": [
        "# firstlayer * secondlayer + bias\n",
        "784*300 + 300, 300*100 + 300, 100*10 + 10"
      ],
      "execution_count": null,
      "outputs": [
        {
          "output_type": "execute_result",
          "data": {
            "text/plain": [
              "(235500, 30300, 1010)"
            ]
          },
          "metadata": {},
          "execution_count": 32
        }
      ]
    },
    {
      "cell_type": "code",
      "metadata": {
        "colab": {
          "base_uri": "https://localhost:8080/"
        },
        "id": "WZmky3ngFuri",
        "outputId": "6d17217b-43ce-4e1c-c196-96c605ab9ad9"
      },
      "source": [
        "np.sum((235500, 30300, 1010))"
      ],
      "execution_count": null,
      "outputs": [
        {
          "output_type": "execute_result",
          "data": {
            "text/plain": [
              "266810"
            ]
          },
          "metadata": {},
          "execution_count": 35
        }
      ]
    },
    {
      "cell_type": "code",
      "metadata": {
        "colab": {
          "base_uri": "https://localhost:8080/",
          "height": 35
        },
        "id": "oRgQEhP1FxUk",
        "outputId": "9781fcd9-9603-4737-91ce-9fd631912741"
      },
      "source": [
        "model_clf.layers[1].name # get the name of any layer"
      ],
      "execution_count": null,
      "outputs": [
        {
          "output_type": "execute_result",
          "data": {
            "application/vnd.google.colaboratory.intrinsic+json": {
              "type": "string"
            },
            "text/plain": [
              "'hiddenLayer1'"
            ]
          },
          "metadata": {},
          "execution_count": 37
        }
      ]
    },
    {
      "cell_type": "code",
      "metadata": {
        "id": "d5l46U6FHSJ_"
      },
      "source": [
        "weights,biases = model_clf.layers[1].get_weights()"
      ],
      "execution_count": null,
      "outputs": []
    },
    {
      "cell_type": "code",
      "metadata": {
        "colab": {
          "base_uri": "https://localhost:8080/"
        },
        "id": "HKYZ7nydHbBU",
        "outputId": "86a8517c-635d-409c-bda1-05766748d8ef"
      },
      "source": [
        "weights.shape"
      ],
      "execution_count": null,
      "outputs": [
        {
          "output_type": "execute_result",
          "data": {
            "text/plain": [
              "(784, 300)"
            ]
          },
          "metadata": {},
          "execution_count": 40
        }
      ]
    },
    {
      "cell_type": "code",
      "metadata": {
        "colab": {
          "base_uri": "https://localhost:8080/"
        },
        "id": "zlXC3QqrHif8",
        "outputId": "e6499876-0e96-4372-d7e3-38fea85190aa"
      },
      "source": [
        "biases.shape"
      ],
      "execution_count": null,
      "outputs": [
        {
          "output_type": "execute_result",
          "data": {
            "text/plain": [
              "(300,)"
            ]
          },
          "metadata": {},
          "execution_count": 43
        }
      ]
    },
    {
      "cell_type": "code",
      "metadata": {
        "id": "frBpo8jGHkeW"
      },
      "source": [
        "LOSS_FUNCTION = \"sparse_categorical_crossentropy\"  # used for classification model\n",
        "OPTIMIZER = \"SGD\"\n",
        "METRICS = [\"accuracy\"]\n",
        "\n",
        "model_clf.compile(loss = LOSS_FUNCTION,optimizer = OPTIMIZER,metrics = METRICS)"
      ],
      "execution_count": null,
      "outputs": []
    },
    {
      "cell_type": "code",
      "metadata": {
        "id": "CJgfKVafIxgb"
      },
      "source": [
        "# BY DEFAULT IF BATCH SIZE IS NOT MENTIONED, IT WILL BE 32\n",
        "\n",
        "# 55000 (TRAIN SET)/ 32 = 1719"
      ],
      "execution_count": null,
      "outputs": []
    },
    {
      "cell_type": "code",
      "metadata": {
        "colab": {
          "base_uri": "https://localhost:8080/"
        },
        "id": "MjEAPqE7IHHC",
        "outputId": "8761f340-f6f8-4b9b-e113-916bd29f72f9"
      },
      "source": [
        "EPOCHS = 30\n",
        "VALIDATION = (X_valid,y_valid)\n",
        "history = model_clf.fit(X_train,y_train,epochs = EPOCHS,validation_data = VALIDATION) # ONE CAN SPECIFY THE BATCH SIZE"
      ],
      "execution_count": null,
      "outputs": [
        {
          "output_type": "stream",
          "name": "stdout",
          "text": [
            "Epoch 1/30\n",
            "1719/1719 [==============================] - 8s 3ms/step - loss: 0.0145 - accuracy: 0.0989 - val_loss: 6.1495e-04 - val_accuracy: 0.0958\n",
            "Epoch 2/30\n",
            "1719/1719 [==============================] - 5s 3ms/step - loss: 4.4291e-04 - accuracy: 0.0990 - val_loss: 2.8386e-04 - val_accuracy: 0.0958\n",
            "Epoch 3/30\n",
            "1719/1719 [==============================] - 5s 3ms/step - loss: 2.4635e-04 - accuracy: 0.0990 - val_loss: 1.8106e-04 - val_accuracy: 0.0958\n",
            "Epoch 4/30\n",
            "1719/1719 [==============================] - 6s 3ms/step - loss: 1.6975e-04 - accuracy: 0.0990 - val_loss: 1.3173e-04 - val_accuracy: 0.0958\n",
            "Epoch 5/30\n",
            "1719/1719 [==============================] - 5s 3ms/step - loss: 1.2901e-04 - accuracy: 0.0990 - val_loss: 1.0296e-04 - val_accuracy: 0.0958\n",
            "Epoch 6/30\n",
            "1719/1719 [==============================] - 6s 3ms/step - loss: 1.0377e-04 - accuracy: 0.0990 - val_loss: 8.4185e-05 - val_accuracy: 0.0958\n",
            "Epoch 7/30\n",
            "1719/1719 [==============================] - 5s 3ms/step - loss: 8.6628e-05 - accuracy: 0.0990 - val_loss: 7.1023e-05 - val_accuracy: 0.0958\n",
            "Epoch 8/30\n",
            "1719/1719 [==============================] - 5s 3ms/step - loss: 7.4245e-05 - accuracy: 0.0990 - val_loss: 6.1303e-05 - val_accuracy: 0.0958\n",
            "Epoch 9/30\n",
            "1719/1719 [==============================] - 5s 3ms/step - loss: 6.4894e-05 - accuracy: 0.0990 - val_loss: 5.3841e-05 - val_accuracy: 0.0958\n",
            "Epoch 10/30\n",
            "1719/1719 [==============================] - 5s 3ms/step - loss: 5.7589e-05 - accuracy: 0.0990 - val_loss: 4.7940e-05 - val_accuracy: 0.0958\n",
            "Epoch 11/30\n",
            "1719/1719 [==============================] - 5s 3ms/step - loss: 5.1732e-05 - accuracy: 0.0990 - val_loss: 4.3164e-05 - val_accuracy: 0.0958\n",
            "Epoch 12/30\n",
            "1719/1719 [==============================] - 6s 3ms/step - loss: 4.6933e-05 - accuracy: 0.0990 - val_loss: 3.9222e-05 - val_accuracy: 0.0958\n",
            "Epoch 13/30\n",
            "1719/1719 [==============================] - 6s 3ms/step - loss: 4.2928e-05 - accuracy: 0.0990 - val_loss: 3.5912e-05 - val_accuracy: 0.0958\n",
            "Epoch 14/30\n",
            "1719/1719 [==============================] - 5s 3ms/step - loss: 3.9537e-05 - accuracy: 0.0990 - val_loss: 3.3100e-05 - val_accuracy: 0.0958\n",
            "Epoch 15/30\n",
            "1719/1719 [==============================] - 5s 3ms/step - loss: 3.6632e-05 - accuracy: 0.0990 - val_loss: 3.0681e-05 - val_accuracy: 0.0958\n",
            "Epoch 16/30\n",
            "1719/1719 [==============================] - 5s 3ms/step - loss: 3.4115e-05 - accuracy: 0.0990 - val_loss: 2.8578e-05 - val_accuracy: 0.0958\n",
            "Epoch 17/30\n",
            "1719/1719 [==============================] - 5s 3ms/step - loss: 3.1915e-05 - accuracy: 0.0990 - val_loss: 2.6735e-05 - val_accuracy: 0.0958\n",
            "Epoch 18/30\n",
            "1719/1719 [==============================] - 6s 3ms/step - loss: 2.9976e-05 - accuracy: 0.0990 - val_loss: 2.5107e-05 - val_accuracy: 0.0958\n",
            "Epoch 19/30\n",
            "1719/1719 [==============================] - 5s 3ms/step - loss: 2.8253e-05 - accuracy: 0.0990 - val_loss: 2.3657e-05 - val_accuracy: 0.0958\n",
            "Epoch 20/30\n",
            "1719/1719 [==============================] - 5s 3ms/step - loss: 2.6714e-05 - accuracy: 0.0990 - val_loss: 2.2359e-05 - val_accuracy: 0.0958\n",
            "Epoch 21/30\n",
            "1719/1719 [==============================] - 6s 3ms/step - loss: 2.5329e-05 - accuracy: 0.0990 - val_loss: 2.1192e-05 - val_accuracy: 0.0958\n",
            "Epoch 22/30\n",
            "1719/1719 [==============================] - 6s 3ms/step - loss: 2.4078e-05 - accuracy: 0.0990 - val_loss: 2.0136e-05 - val_accuracy: 0.0958\n",
            "Epoch 23/30\n",
            "1719/1719 [==============================] - 6s 3ms/step - loss: 2.2943e-05 - accuracy: 0.0990 - val_loss: 1.9176e-05 - val_accuracy: 0.0958\n",
            "Epoch 24/30\n",
            "1719/1719 [==============================] - 5s 3ms/step - loss: 2.1908e-05 - accuracy: 0.0990 - val_loss: 1.8300e-05 - val_accuracy: 0.0958\n",
            "Epoch 25/30\n",
            "1719/1719 [==============================] - 5s 3ms/step - loss: 2.0960e-05 - accuracy: 0.0990 - val_loss: 1.7498e-05 - val_accuracy: 0.0958\n",
            "Epoch 26/30\n",
            "1719/1719 [==============================] - 5s 3ms/step - loss: 2.0088e-05 - accuracy: 0.0990 - val_loss: 1.6761e-05 - val_accuracy: 0.0958\n",
            "Epoch 27/30\n",
            "1719/1719 [==============================] - 5s 3ms/step - loss: 1.9285e-05 - accuracy: 0.0990 - val_loss: 1.6080e-05 - val_accuracy: 0.0958\n",
            "Epoch 28/30\n",
            "1719/1719 [==============================] - 5s 3ms/step - loss: 1.8543e-05 - accuracy: 0.0990 - val_loss: 1.5450e-05 - val_accuracy: 0.0958\n",
            "Epoch 29/30\n",
            "1719/1719 [==============================] - 5s 3ms/step - loss: 1.7854e-05 - accuracy: 0.0990 - val_loss: 1.4866e-05 - val_accuracy: 0.0958\n",
            "Epoch 30/30\n",
            "1719/1719 [==============================] - 5s 3ms/step - loss: 1.7214e-05 - accuracy: 0.0990 - val_loss: 1.4324e-05 - val_accuracy: 0.0958\n"
          ]
        }
      ]
    },
    {
      "cell_type": "code",
      "metadata": {
        "colab": {
          "base_uri": "https://localhost:8080/"
        },
        "id": "Tu-Ivg3QIk_K",
        "outputId": "4f96f47e-0f63-4dd9-ccc3-c1e83f3045ed"
      },
      "source": [
        "history.params # verbose means how much value you want to get printed on screen"
      ],
      "execution_count": null,
      "outputs": [
        {
          "output_type": "execute_result",
          "data": {
            "text/plain": [
              "{'epochs': 30, 'steps': 1719, 'verbose': 1}"
            ]
          },
          "metadata": {},
          "execution_count": 46
        }
      ]
    },
    {
      "cell_type": "code",
      "metadata": {
        "colab": {
          "base_uri": "https://localhost:8080/",
          "height": 979
        },
        "id": "z5uMLfhXLdmO",
        "outputId": "927dc123-5fa0-434f-8cac-493b953078cd"
      },
      "source": [
        "pd.DataFrame(history.history)"
      ],
      "execution_count": null,
      "outputs": [
        {
          "output_type": "execute_result",
          "data": {
            "text/html": [
              "<div>\n",
              "<style scoped>\n",
              "    .dataframe tbody tr th:only-of-type {\n",
              "        vertical-align: middle;\n",
              "    }\n",
              "\n",
              "    .dataframe tbody tr th {\n",
              "        vertical-align: top;\n",
              "    }\n",
              "\n",
              "    .dataframe thead th {\n",
              "        text-align: right;\n",
              "    }\n",
              "</style>\n",
              "<table border=\"1\" class=\"dataframe\">\n",
              "  <thead>\n",
              "    <tr style=\"text-align: right;\">\n",
              "      <th></th>\n",
              "      <th>loss</th>\n",
              "      <th>accuracy</th>\n",
              "      <th>val_loss</th>\n",
              "      <th>val_accuracy</th>\n",
              "    </tr>\n",
              "  </thead>\n",
              "  <tbody>\n",
              "    <tr>\n",
              "      <th>0</th>\n",
              "      <td>0.014474</td>\n",
              "      <td>0.098855</td>\n",
              "      <td>0.000615</td>\n",
              "      <td>0.0958</td>\n",
              "    </tr>\n",
              "    <tr>\n",
              "      <th>1</th>\n",
              "      <td>0.000443</td>\n",
              "      <td>0.098982</td>\n",
              "      <td>0.000284</td>\n",
              "      <td>0.0958</td>\n",
              "    </tr>\n",
              "    <tr>\n",
              "      <th>2</th>\n",
              "      <td>0.000246</td>\n",
              "      <td>0.098982</td>\n",
              "      <td>0.000181</td>\n",
              "      <td>0.0958</td>\n",
              "    </tr>\n",
              "    <tr>\n",
              "      <th>3</th>\n",
              "      <td>0.000170</td>\n",
              "      <td>0.098982</td>\n",
              "      <td>0.000132</td>\n",
              "      <td>0.0958</td>\n",
              "    </tr>\n",
              "    <tr>\n",
              "      <th>4</th>\n",
              "      <td>0.000129</td>\n",
              "      <td>0.098982</td>\n",
              "      <td>0.000103</td>\n",
              "      <td>0.0958</td>\n",
              "    </tr>\n",
              "    <tr>\n",
              "      <th>5</th>\n",
              "      <td>0.000104</td>\n",
              "      <td>0.098982</td>\n",
              "      <td>0.000084</td>\n",
              "      <td>0.0958</td>\n",
              "    </tr>\n",
              "    <tr>\n",
              "      <th>6</th>\n",
              "      <td>0.000087</td>\n",
              "      <td>0.098982</td>\n",
              "      <td>0.000071</td>\n",
              "      <td>0.0958</td>\n",
              "    </tr>\n",
              "    <tr>\n",
              "      <th>7</th>\n",
              "      <td>0.000074</td>\n",
              "      <td>0.098982</td>\n",
              "      <td>0.000061</td>\n",
              "      <td>0.0958</td>\n",
              "    </tr>\n",
              "    <tr>\n",
              "      <th>8</th>\n",
              "      <td>0.000065</td>\n",
              "      <td>0.098982</td>\n",
              "      <td>0.000054</td>\n",
              "      <td>0.0958</td>\n",
              "    </tr>\n",
              "    <tr>\n",
              "      <th>9</th>\n",
              "      <td>0.000058</td>\n",
              "      <td>0.098982</td>\n",
              "      <td>0.000048</td>\n",
              "      <td>0.0958</td>\n",
              "    </tr>\n",
              "    <tr>\n",
              "      <th>10</th>\n",
              "      <td>0.000052</td>\n",
              "      <td>0.098982</td>\n",
              "      <td>0.000043</td>\n",
              "      <td>0.0958</td>\n",
              "    </tr>\n",
              "    <tr>\n",
              "      <th>11</th>\n",
              "      <td>0.000047</td>\n",
              "      <td>0.098982</td>\n",
              "      <td>0.000039</td>\n",
              "      <td>0.0958</td>\n",
              "    </tr>\n",
              "    <tr>\n",
              "      <th>12</th>\n",
              "      <td>0.000043</td>\n",
              "      <td>0.098982</td>\n",
              "      <td>0.000036</td>\n",
              "      <td>0.0958</td>\n",
              "    </tr>\n",
              "    <tr>\n",
              "      <th>13</th>\n",
              "      <td>0.000040</td>\n",
              "      <td>0.098982</td>\n",
              "      <td>0.000033</td>\n",
              "      <td>0.0958</td>\n",
              "    </tr>\n",
              "    <tr>\n",
              "      <th>14</th>\n",
              "      <td>0.000037</td>\n",
              "      <td>0.098982</td>\n",
              "      <td>0.000031</td>\n",
              "      <td>0.0958</td>\n",
              "    </tr>\n",
              "    <tr>\n",
              "      <th>15</th>\n",
              "      <td>0.000034</td>\n",
              "      <td>0.098982</td>\n",
              "      <td>0.000029</td>\n",
              "      <td>0.0958</td>\n",
              "    </tr>\n",
              "    <tr>\n",
              "      <th>16</th>\n",
              "      <td>0.000032</td>\n",
              "      <td>0.098982</td>\n",
              "      <td>0.000027</td>\n",
              "      <td>0.0958</td>\n",
              "    </tr>\n",
              "    <tr>\n",
              "      <th>17</th>\n",
              "      <td>0.000030</td>\n",
              "      <td>0.098982</td>\n",
              "      <td>0.000025</td>\n",
              "      <td>0.0958</td>\n",
              "    </tr>\n",
              "    <tr>\n",
              "      <th>18</th>\n",
              "      <td>0.000028</td>\n",
              "      <td>0.098982</td>\n",
              "      <td>0.000024</td>\n",
              "      <td>0.0958</td>\n",
              "    </tr>\n",
              "    <tr>\n",
              "      <th>19</th>\n",
              "      <td>0.000027</td>\n",
              "      <td>0.098982</td>\n",
              "      <td>0.000022</td>\n",
              "      <td>0.0958</td>\n",
              "    </tr>\n",
              "    <tr>\n",
              "      <th>20</th>\n",
              "      <td>0.000025</td>\n",
              "      <td>0.098982</td>\n",
              "      <td>0.000021</td>\n",
              "      <td>0.0958</td>\n",
              "    </tr>\n",
              "    <tr>\n",
              "      <th>21</th>\n",
              "      <td>0.000024</td>\n",
              "      <td>0.098982</td>\n",
              "      <td>0.000020</td>\n",
              "      <td>0.0958</td>\n",
              "    </tr>\n",
              "    <tr>\n",
              "      <th>22</th>\n",
              "      <td>0.000023</td>\n",
              "      <td>0.098982</td>\n",
              "      <td>0.000019</td>\n",
              "      <td>0.0958</td>\n",
              "    </tr>\n",
              "    <tr>\n",
              "      <th>23</th>\n",
              "      <td>0.000022</td>\n",
              "      <td>0.098982</td>\n",
              "      <td>0.000018</td>\n",
              "      <td>0.0958</td>\n",
              "    </tr>\n",
              "    <tr>\n",
              "      <th>24</th>\n",
              "      <td>0.000021</td>\n",
              "      <td>0.098982</td>\n",
              "      <td>0.000017</td>\n",
              "      <td>0.0958</td>\n",
              "    </tr>\n",
              "    <tr>\n",
              "      <th>25</th>\n",
              "      <td>0.000020</td>\n",
              "      <td>0.098982</td>\n",
              "      <td>0.000017</td>\n",
              "      <td>0.0958</td>\n",
              "    </tr>\n",
              "    <tr>\n",
              "      <th>26</th>\n",
              "      <td>0.000019</td>\n",
              "      <td>0.098982</td>\n",
              "      <td>0.000016</td>\n",
              "      <td>0.0958</td>\n",
              "    </tr>\n",
              "    <tr>\n",
              "      <th>27</th>\n",
              "      <td>0.000019</td>\n",
              "      <td>0.098982</td>\n",
              "      <td>0.000015</td>\n",
              "      <td>0.0958</td>\n",
              "    </tr>\n",
              "    <tr>\n",
              "      <th>28</th>\n",
              "      <td>0.000018</td>\n",
              "      <td>0.098982</td>\n",
              "      <td>0.000015</td>\n",
              "      <td>0.0958</td>\n",
              "    </tr>\n",
              "    <tr>\n",
              "      <th>29</th>\n",
              "      <td>0.000017</td>\n",
              "      <td>0.098982</td>\n",
              "      <td>0.000014</td>\n",
              "      <td>0.0958</td>\n",
              "    </tr>\n",
              "  </tbody>\n",
              "</table>\n",
              "</div>"
            ],
            "text/plain": [
              "        loss  accuracy  val_loss  val_accuracy\n",
              "0   0.014474  0.098855  0.000615        0.0958\n",
              "1   0.000443  0.098982  0.000284        0.0958\n",
              "2   0.000246  0.098982  0.000181        0.0958\n",
              "3   0.000170  0.098982  0.000132        0.0958\n",
              "4   0.000129  0.098982  0.000103        0.0958\n",
              "5   0.000104  0.098982  0.000084        0.0958\n",
              "6   0.000087  0.098982  0.000071        0.0958\n",
              "7   0.000074  0.098982  0.000061        0.0958\n",
              "8   0.000065  0.098982  0.000054        0.0958\n",
              "9   0.000058  0.098982  0.000048        0.0958\n",
              "10  0.000052  0.098982  0.000043        0.0958\n",
              "11  0.000047  0.098982  0.000039        0.0958\n",
              "12  0.000043  0.098982  0.000036        0.0958\n",
              "13  0.000040  0.098982  0.000033        0.0958\n",
              "14  0.000037  0.098982  0.000031        0.0958\n",
              "15  0.000034  0.098982  0.000029        0.0958\n",
              "16  0.000032  0.098982  0.000027        0.0958\n",
              "17  0.000030  0.098982  0.000025        0.0958\n",
              "18  0.000028  0.098982  0.000024        0.0958\n",
              "19  0.000027  0.098982  0.000022        0.0958\n",
              "20  0.000025  0.098982  0.000021        0.0958\n",
              "21  0.000024  0.098982  0.000020        0.0958\n",
              "22  0.000023  0.098982  0.000019        0.0958\n",
              "23  0.000022  0.098982  0.000018        0.0958\n",
              "24  0.000021  0.098982  0.000017        0.0958\n",
              "25  0.000020  0.098982  0.000017        0.0958\n",
              "26  0.000019  0.098982  0.000016        0.0958\n",
              "27  0.000019  0.098982  0.000015        0.0958\n",
              "28  0.000018  0.098982  0.000015        0.0958\n",
              "29  0.000017  0.098982  0.000014        0.0958"
            ]
          },
          "metadata": {},
          "execution_count": 53
        }
      ]
    },
    {
      "cell_type": "code",
      "metadata": {
        "colab": {
          "base_uri": "https://localhost:8080/",
          "height": 197
        },
        "id": "ltWWfmXoLil2",
        "outputId": "ebd76cb3-b0cc-4d90-88a0-a03b4fb4b661"
      },
      "source": [
        "pd.DataFrame(history.history.plot(figsize=(10,7)))\n",
        "plt.grid(True)\n",
        "plt.show()"
      ],
      "execution_count": null,
      "outputs": [
        {
          "output_type": "error",
          "ename": "AttributeError",
          "evalue": "ignored",
          "traceback": [
            "\u001b[0;31m---------------------------------------------------------------------------\u001b[0m",
            "\u001b[0;31mAttributeError\u001b[0m                            Traceback (most recent call last)",
            "\u001b[0;32m<ipython-input-68-32b4d7132884>\u001b[0m in \u001b[0;36m<module>\u001b[0;34m()\u001b[0m\n\u001b[0;32m----> 1\u001b[0;31m \u001b[0mpd\u001b[0m\u001b[0;34m.\u001b[0m\u001b[0mDataFrame\u001b[0m\u001b[0;34m(\u001b[0m\u001b[0mhistory\u001b[0m\u001b[0;34m.\u001b[0m\u001b[0mhistory\u001b[0m\u001b[0;34m.\u001b[0m\u001b[0mplot\u001b[0m\u001b[0;34m(\u001b[0m\u001b[0mfigsize\u001b[0m\u001b[0;34m=\u001b[0m\u001b[0;34m(\u001b[0m\u001b[0;36m10\u001b[0m\u001b[0;34m,\u001b[0m\u001b[0;36m7\u001b[0m\u001b[0;34m)\u001b[0m\u001b[0;34m)\u001b[0m\u001b[0;34m)\u001b[0m\u001b[0;34m\u001b[0m\u001b[0;34m\u001b[0m\u001b[0m\n\u001b[0m\u001b[1;32m      2\u001b[0m \u001b[0mplt\u001b[0m\u001b[0;34m.\u001b[0m\u001b[0mgrid\u001b[0m\u001b[0;34m(\u001b[0m\u001b[0;32mTrue\u001b[0m\u001b[0;34m)\u001b[0m\u001b[0;34m\u001b[0m\u001b[0;34m\u001b[0m\u001b[0m\n\u001b[1;32m      3\u001b[0m \u001b[0mplt\u001b[0m\u001b[0;34m.\u001b[0m\u001b[0mshow\u001b[0m\u001b[0;34m(\u001b[0m\u001b[0;34m)\u001b[0m\u001b[0;34m\u001b[0m\u001b[0;34m\u001b[0m\u001b[0m\n",
            "\u001b[0;31mAttributeError\u001b[0m: 'dict' object has no attribute 'plot'"
          ]
        }
      ]
    },
    {
      "cell_type": "code",
      "metadata": {
        "colab": {
          "base_uri": "https://localhost:8080/"
        },
        "id": "Ip97GAlWMPGJ",
        "outputId": "723391b8-0351-432b-e70d-37bf3afd186a"
      },
      "source": [
        "model_clf.evaluate(X_test,y_test)"
      ],
      "execution_count": null,
      "outputs": [
        {
          "output_type": "stream",
          "name": "stdout",
          "text": [
            "313/313 [==============================] - 1s 3ms/step - loss: 2.4062 - accuracy: 0.0980\n"
          ]
        },
        {
          "output_type": "execute_result",
          "data": {
            "text/plain": [
              "[2.406184673309326, 0.09799999743700027]"
            ]
          },
          "metadata": {},
          "execution_count": 54
        }
      ]
    },
    {
      "cell_type": "code",
      "metadata": {
        "colab": {
          "base_uri": "https://localhost:8080/"
        },
        "id": "KNbijxv7MTRW",
        "outputId": "92f142f1-5b8a-477c-eead-57177d44a202"
      },
      "source": [
        "10000/32"
      ],
      "execution_count": null,
      "outputs": [
        {
          "output_type": "execute_result",
          "data": {
            "text/plain": [
              "312.5"
            ]
          },
          "metadata": {},
          "execution_count": 56
        }
      ]
    },
    {
      "cell_type": "code",
      "metadata": {
        "colab": {
          "base_uri": "https://localhost:8080/"
        },
        "id": "RQjteH8HMW1d",
        "outputId": "e0cb5fe1-ea9a-4078-c4c3-250e1e826125"
      },
      "source": [
        "X_new = X_test[:3]\n",
        "\n",
        "y_prob = model_clf.predict(X_new)\n",
        "y_prob.round(2)"
      ],
      "execution_count": null,
      "outputs": [
        {
          "output_type": "execute_result",
          "data": {
            "text/plain": [
              "array([[0.28, 0.08, 0.08, 0.08, 0.08, 0.08, 0.08, 0.08, 0.08, 0.08],\n",
              "       [0.28, 0.08, 0.08, 0.08, 0.08, 0.08, 0.08, 0.08, 0.08, 0.08],\n",
              "       [0.28, 0.08, 0.08, 0.08, 0.08, 0.08, 0.08, 0.08, 0.08, 0.08]],\n",
              "      dtype=float32)"
            ]
          },
          "metadata": {},
          "execution_count": 58
        }
      ]
    },
    {
      "cell_type": "code",
      "metadata": {
        "colab": {
          "base_uri": "https://localhost:8080/"
        },
        "id": "rr7GFV5UMpJp",
        "outputId": "5a0cbdcc-a0f4-4c7f-eac3-6bc05d75f7c6"
      },
      "source": [
        "y_prob.shape"
      ],
      "execution_count": null,
      "outputs": [
        {
          "output_type": "execute_result",
          "data": {
            "text/plain": [
              "(3, 10)"
            ]
          },
          "metadata": {},
          "execution_count": 59
        }
      ]
    },
    {
      "cell_type": "code",
      "metadata": {
        "colab": {
          "base_uri": "https://localhost:8080/"
        },
        "id": "6oqV2Op9NESC",
        "outputId": "232f7fd1-3f2a-4127-d8cb-3ca1fec32638"
      },
      "source": [
        "Y_pred = np.argmax(y_prob,axis = -1) # argmax gives the index of max item in that array , axis = -1 returns the argmax output for all the array\n",
        "Y_pred"
      ],
      "execution_count": null,
      "outputs": [
        {
          "output_type": "execute_result",
          "data": {
            "text/plain": [
              "array([0, 0, 0])"
            ]
          },
          "metadata": {},
          "execution_count": 61
        }
      ]
    },
    {
      "cell_type": "code",
      "metadata": {
        "colab": {
          "base_uri": "https://localhost:8080/",
          "height": 809
        },
        "id": "Z_x0JU1YNqgT",
        "outputId": "04026b1b-5001-4774-8e33-e3c038306220"
      },
      "source": [
        "for img_array, pred, actual in zip(X_new,Y_pred,y_test[:3]):\n",
        "  plt.imshow(img_array,cmap=\"binary\")\n",
        "  plt.title(f\"predicted: {pred}, Actual: {actual}\")\n",
        "  plt.axis(\"off\")\n",
        "  plt.show()\n",
        "  print(\"---\"*20)"
      ],
      "execution_count": null,
      "outputs": [
        {
          "output_type": "display_data",
          "data": {
            "image/png": "[encoded data removed]",
            "text/plain": [
              "<Figure size 432x288 with 1 Axes>"
            ]
          },
          "metadata": {
            "needs_background": "light"
          }
        },
        {
          "output_type": "stream",
          "name": "stdout",
          "text": [
            "------------------------------------------------------------\n"
          ]
        },
        {
          "output_type": "display_data",
          "data": {
            "image/png": "[encoded data removed]",
            "text/plain": [
              "<Figure size 432x288 with 1 Axes>"
            ]
          },
          "metadata": {
            "needs_background": "light"
          }
        },
        {
          "output_type": "stream",
          "name": "stdout",
          "text": [
            "------------------------------------------------------------\n"
          ]
        },
        {
          "output_type": "display_data",
          "data": {
            "image/png": "[encoded data removed]",
            "text/plain": [
              "<Figure size 432x288 with 1 Axes>"
            ]
          },
          "metadata": {
            "needs_background": "light"
          }
        },
        {
          "output_type": "stream",
          "name": "stdout",
          "text": [
            "------------------------------------------------------------\n"
          ]
        }
      ]
    },
    {
      "cell_type": "code",
      "metadata": {
        "colab": {
          "base_uri": "https://localhost:8080/"
        },
        "id": "i5xuGzNTOdpE",
        "outputId": "d79644a6-7d45-4244-d4a2-6e9b8a38fbf4"
      },
      "source": [
        "a = (1,2,3)\n",
        "\n",
        "b = (5,6,7)\n",
        "\n",
        "a+b"
      ],
      "execution_count": null,
      "outputs": [
        {
          "output_type": "execute_result",
          "data": {
            "text/plain": [
              "(1, 2, 3, 5, 6, 7)"
            ]
          },
          "metadata": {},
          "execution_count": 63
        }
      ]
    },
    {
      "cell_type": "code",
      "metadata": {
        "colab": {
          "base_uri": "https://localhost:8080/"
        },
        "id": "ZaedFOh_Olc_",
        "outputId": "1b064af8-6ea8-471d-fb16-d4f989f96e22"
      },
      "source": [
        "for i,j in zip(a,b): # array a & b should be same length\n",
        "  print(i+j)"
      ],
      "execution_count": null,
      "outputs": [
        {
          "output_type": "stream",
          "name": "stdout",
          "text": [
            "6\n",
            "8\n",
            "10\n"
          ]
        }
      ]
    },
    {
      "cell_type": "code",
      "metadata": {
        "id": "UxYJ9oZEOqFR"
      },
      "source": [
        "model_clf.save(\"model.h5\") # To save the model"
      ],
      "execution_count": null,
      "outputs": []
    },
    {
      "cell_type": "code",
      "metadata": {
        "id": "1zdToc9uS0oU"
      },
      "source": [
        ""
      ],
      "execution_count": null,
      "outputs": []
    }
  ]
}